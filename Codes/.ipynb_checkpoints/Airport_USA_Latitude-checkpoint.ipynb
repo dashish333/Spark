{
 "cells": [
  {
   "cell_type": "code",
   "execution_count": 1,
   "metadata": {
    "collapsed": true
   },
   "outputs": [],
   "source": [
    "import re\n",
    "def Utils():\n",
    "    Comma_Delim = re.compile(''',(?=(?:[^\"]*\"[^\"]*\")*[^\"]*$)''')\n",
    "\n",
    "    "
   ]
  },
  {
   "cell_type": "code",
   "execution_count": 2,
   "metadata": {
    "collapsed": true
   },
   "outputs": [],
   "source": [
    "from pyspark import SparkContext, SparkConf"
   ]
  },
  {
   "cell_type": "code",
   "execution_count": 3,
   "metadata": {
    "collapsed": true
   },
   "outputs": [],
   "source": [
    "def split_comma(line: str):\n",
    "    split = Utils.Comma_Delim.split(line)\n",
    "    return \"{}, {}\".format(split[1],split[2])\n",
    "    "
   ]
  },
  {
   "cell_type": "code",
   "execution_count": 5,
   "metadata": {},
   "outputs": [
    {
     "name": "stdout",
     "output_type": "stream",
     "text": [
      "PythonRDD[7] at RDD at PythonRDD.scala:48\n"
     ]
    }
   ],
   "source": [
    "#if __name__==\"__main__\":\n",
    "    #conf = SparkConf().setAppName(\"airport\").setMaster(\"local[2]\")\n",
    "sc = SparkContext.getOrCreate()\n",
    "airports = sc.textFile('in/airports.text')\n",
    "    \n",
    "airportInUSA=airports.filter(lambda line : Utils.Comma_Delim.split(line)[3]==\"\\\"United States \\\"\")\n",
    "    \n",
    "airportNameandCityName = airportInUSA.map(split_comma)\n",
    "print(airportNameandCityName)"
   ]
  },
  {
   "cell_type": "code",
   "execution_count": null,
   "metadata": {
    "collapsed": true
   },
   "outputs": [],
   "source": []
  }
 ],
 "metadata": {
  "kernelspec": {
   "display_name": "PY35",
   "language": "python",
   "name": "ml-lib"
  },
  "language_info": {
   "codemirror_mode": {
    "name": "ipython",
    "version": 3
   },
   "file_extension": ".py",
   "mimetype": "text/x-python",
   "name": "python",
   "nbconvert_exporter": "python",
   "pygments_lexer": "ipython3",
   "version": "3.5.4"
  }
 },
 "nbformat": 4,
 "nbformat_minor": 2
}
