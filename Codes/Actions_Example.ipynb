{
 "cells": [
  {
   "cell_type": "markdown",
   "metadata": {},
   "source": [
    "# Action : Collect()"
   ]
  },
  {
   "cell_type": "code",
   "execution_count": 5,
   "metadata": {},
   "outputs": [
    {
     "name": "stdout",
     "output_type": "stream",
     "text": [
      "IITGN\n",
      "CSE\n",
      "MTech\n",
      "2017-2019\n",
      "17210017\n"
     ]
    }
   ],
   "source": [
    "from pyspark import SparkContext\n",
    "refStr = [\"IITGN\",\"CSE\",\"MTech\",\"2017-2019\",\"17210017\"] ##list of string\n",
    "sc = SparkContext.getOrCreate()\n",
    "RDD = sc.parallelize(refStr) ## converting a list of words to string string RDD\n",
    "words=RDD.collect() ## converting string RDD back to list\n",
    "for one in words:\n",
    "    print(one)\n"
   ]
  },
  {
   "cell_type": "markdown",
   "metadata": {},
   "source": [
    "# Action : Count / CountByValue\n",
    "## Count is useful when need to count simply, let say the number of values\n",
    "## CountByValue is useful when lets say the rows of RDD contains duplicacy"
   ]
  },
  {
   "cell_type": "code",
   "execution_count": 11,
   "metadata": {},
   "outputs": [
    {
     "name": "stdout",
     "output_type": "stream",
     "text": [
      "Count 10\n",
      "MTech:3\n",
      "CSE:1\n",
      "2017-2019:2\n",
      "17210017:2\n",
      "IITGN:2\n"
     ]
    }
   ],
   "source": [
    "inputStr = [\"IITGN\",\"CSE\",\"MTech\",\"2017-2019\",\"MTech\",\"MTech\",\"17210017\",\"2017-2019\",\"17210017\",\"IITGN\"]\n",
    "strRDD = sc.parallelize(inputStr)\n",
    "\n",
    "#print the count of this strRDD\n",
    "#count Action\n",
    "print(\"Count {}\".format(strRDD.count()))\n",
    "\n",
    "#countByValue Action\n",
    "\n",
    "wordCountByVal = strRDD.countByValue()\n",
    "\n",
    "for word , count in wordCountByVal.items():\n",
    "    print(\"{}:{}\".format(word,count))\n"
   ]
  },
  {
   "cell_type": "code",
   "execution_count": null,
   "metadata": {},
   "outputs": [],
   "source": []
  }
 ],
 "metadata": {
  "kernelspec": {
   "display_name": "PY35",
   "language": "python",
   "name": "ml-lib"
  },
  "language_info": {
   "codemirror_mode": {
    "name": "ipython",
    "version": 3
   },
   "file_extension": ".py",
   "mimetype": "text/x-python",
   "name": "python",
   "nbconvert_exporter": "python",
   "pygments_lexer": "ipython3",
   "version": "3.5.4"
  }
 },
 "nbformat": 4,
 "nbformat_minor": 2
}
