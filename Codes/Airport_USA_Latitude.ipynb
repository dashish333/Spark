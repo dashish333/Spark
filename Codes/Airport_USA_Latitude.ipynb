{
 "cells": [
  {
   "cell_type": "code",
   "execution_count": 6,
   "metadata": {
    "collapsed": true
   },
   "outputs": [],
   "source": [
    "import re\n",
    "class Utils():\n",
    "    Comma_Delim = re.compile(''',(?=(?:[^\"]*\"[^\"]*\")*[^\"]*$)''')\n",
    "\n",
    "    "
   ]
  },
  {
   "cell_type": "code",
   "execution_count": 2,
   "metadata": {
    "collapsed": true
   },
   "outputs": [],
   "source": [
    "from pyspark import SparkContext, SparkConf"
   ]
  },
  {
   "cell_type": "code",
   "execution_count": 30,
   "metadata": {
    "collapsed": true
   },
   "outputs": [],
   "source": [
    "def split_comma(line: str):\n",
    "    split = Utils.Comma_Delim.split(line)\n",
    "    return \"{}, {}\".format(split[1],split[6])\n",
    "    "
   ]
  },
  {
   "cell_type": "code",
   "execution_count": 1,
   "metadata": {},
   "outputs": [
    {
     "name": "stdout",
     "output_type": "stream",
     "text": [
      "3.5.4 |Anaconda, Inc.| (default, Nov  8 2017, 18:11:28) \n",
      "[GCC 4.2.1 Compatible Clang 4.0.1 (tags/RELEASE_401/final)]\n"
     ]
    }
   ],
   "source": []
  },
  {
   "cell_type": "code",
   "execution_count": 32,
   "metadata": {},
   "outputs": [],
   "source": [
    "if __name__==\"__main__\":\n",
    "    sc=SparkContext.getOrCreate()\n",
    "    airports = sc.textFile('/Users/ashishdwivedi/anaconda3/envs/ml-lib/Spark/Codes/in/airports.text')\n",
    "    ## filter operation is done over RDD and function is passed which returns another RDD\n",
    "    airportInUSA = airports.filter(lambda line : float(Utils.Comma_Delim.split(line)[6]) > 40)\n",
    "    ## map\n",
    "    airportNameandlatitude = airportInUSA.map(split_comma)\n",
    "    airportNameandlatitude.saveAsTextFile('/Users/ashishdwivedi/anaconda3/envs/ml-lib/Spark/Codes/out/USA_Airports_Latitude.text')"
   ]
  },
  {
   "cell_type": "code",
   "execution_count": null,
   "metadata": {
    "collapsed": true
   },
   "outputs": [],
   "source": []
  }
 ],
 "metadata": {
  "kernelspec": {
   "display_name": "PY35",
   "language": "python",
   "name": "ml-lib"
  },
  "language_info": {
   "codemirror_mode": {
    "name": "ipython",
    "version": 3
   },
   "file_extension": ".py",
   "mimetype": "text/x-python",
   "name": "python",
   "nbconvert_exporter": "python",
   "pygments_lexer": "ipython3",
   "version": "3.5.4"
  }
 },
 "nbformat": 4,
 "nbformat_minor": 2
}
