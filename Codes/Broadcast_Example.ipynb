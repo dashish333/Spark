{
 "cells": [
  {
   "cell_type": "markdown",
   "metadata": {},
   "source": [
    "##### Broadcast variable: rather than sending the data with the Task, the copy of data is cached in each machine.\n",
    "###### Task is the command send by driver program to the executor by serlializing the Function object"
   ]
  },
  {
   "cell_type": "markdown",
   "metadata": {},
   "source": [
    "## UKMakerspace and UK-postcode files are input to this code:\n",
    "#### Task for every postcode output the regions"
   ]
  },
  {
   "cell_type": "code",
   "execution_count": 4,
   "metadata": {},
   "outputs": [],
   "source": [
    "from pyspark import SparkContext\n",
    "\n",
    "sc = SparkContext.getOrCreate()"
   ]
  },
  {
   "cell_type": "code",
   "execution_count": 5,
   "metadata": {},
   "outputs": [],
   "source": [
    "import re\n",
    "class Utils():\n",
    "    Comma_Delim = re.compile(''',(?=(?:[^\"]*\"[^\"]*\")*[^\"]*$)''')"
   ]
  },
  {
   "cell_type": "code",
   "execution_count": 24,
   "metadata": {},
   "outputs": [],
   "source": [
    "def givePostCode():\n",
    "    ## open :create a file object\n",
    "    ## read :start reading the content of file\n",
    "    ## split : usual function\n",
    "    lines = open(\"in/uk-postcode.csv\",\"r\").read().split('\\n')\n",
    "    splittedLines = [Utils.Comma_Delim.split(line) for line in lines if line!=\"\"]\n",
    "    return {string[0]:string[7] for string in splittedLines}\n",
    "    "
   ]
  },
  {
   "cell_type": "code",
   "execution_count": 19,
   "metadata": {},
   "outputs": [],
   "source": [
    "def getPostCodeOnly(line:str):\n",
    "    split = Utils.Comma_Delim.split(line)\n",
    "    postcode = split[4]\n",
    "    return None if not postcode else postcode.split(\" \")[0]"
   ]
  },
  {
   "cell_type": "code",
   "execution_count": 29,
   "metadata": {},
   "outputs": [],
   "source": [
    "## loading the broadcast variable\n",
    "\n",
    "postCode = sc.broadcast(givePostCode())\n"
   ]
  },
  {
   "cell_type": "code",
   "execution_count": 36,
   "metadata": {},
   "outputs": [
    {
     "data": {
      "text/plain": [
       "'Rochford'"
      ]
     },
     "execution_count": 36,
     "metadata": {},
     "output_type": "execute_result"
    }
   ],
   "source": [
    "postCode.value[\"SS6\"] ## to check the broadcast variable"
   ]
  },
  {
   "cell_type": "code",
   "execution_count": 35,
   "metadata": {},
   "outputs": [
    {
     "name": "stdout",
     "output_type": "stream",
     "text": [
      "Enfield, 1\n",
      "Westminster, 1\n",
      "Wealden, 1\n",
      "Colchester, 1\n",
      "Brighton and Hove, 2\n",
      "Exeter, 1\n",
      "Derby, 1\n",
      "Kent, 1\n",
      "Bristol, 2\n",
      "Allerdale, 1\n",
      "Belfast, 2\n",
      "Falkirk, 1\n",
      "Richmond upon Thames, 1\n",
      "Staffordshire, 1\n",
      "Derry, 1\n",
      "Sheffield, 2\n",
      "Southampton, 1\n",
      "Southwark, 2\n",
      "Ealing, 1\n",
      "Camden, 2\n",
      "Eastbourne, 1\n",
      "Tower Hamlets, 3\n",
      "Lincoln, 1\n",
      "Scottish Borders, 1\n",
      "Newcastle, 1\n",
      "Brent, 1\n",
      "Coventry, 1\n",
      "Kensington and Chelsea, 1\n",
      "Hereford, 1\n",
      "Lambeth, 2\n",
      "Newport, 1\n",
      "Canterbury, 1\n",
      "York, 1\n",
      "Swindon, 1\n",
      "Gedling, 1\n",
      "Fenland, 1\n",
      "Leicester, 1\n",
      "Dundee, 1\n",
      "North Hertfordshire, 1\n",
      "Aberdeen, 2\n",
      "Gwynedd, 1\n",
      "Waltham Forest, 1\n",
      "Wandsworth, 1\n",
      "Lancaster, 1\n",
      "Hackney, 1\n",
      "Berkshire, 1\n",
      "Argyllshire, 1\n",
      "City of London, 1\n",
      "Moray, 1\n",
      "Cornwall, 1\n",
      "Tewkesbury, 1\n",
      "Glasgow, 3\n",
      "Cardiff, 3\n",
      "Dudley, 1\n",
      "Cheshire West and Chester, 1\n",
      "Lewisham, 1\n",
      "Blackpool, 1\n",
      "Barrow-in-Furness, 1\n",
      "Sunderland, 1\n",
      "Wigan, 1\n",
      "Birmingham, 1\n",
      "Bradford, 1\n",
      "Plymouth, 1\n",
      "Manchester, 3\n",
      "Medway, 1\n",
      "Leeds, 2\n",
      "Rushmoor, 1\n",
      "Liverpool, 2\n",
      "Oxford, 2\n",
      "Milton Keynes, 1\n",
      "Unkown, 2\n",
      "Rhondda Cynon Taf, 1\n",
      "Swansea, 1\n",
      "Cambridge, 1\n"
     ]
    }
   ],
   "source": [
    "makersRDD = sc.textFile(\"in/uk-makerspaces-identifiable-data.csv\")\n",
    "\n",
    "regionMap = makersRDD \\\n",
    ".filter(lambda line : Utils.Comma_Delim.split(line)[0]!=\"Timestamp\")\\\n",
    ".filter(lambda line:getPostCodeOnly(line) is not None)\\\n",
    ".map(lambda line:postCode.value[getPostCodeOnly(line)]\\\n",
    "    if getPostCodeOnly(line) in postCode.value else \"Unkown\"\n",
    "    )\n",
    "\n",
    "for region,count in regionMap.countByValue().items():\n",
    "    print(\"{}, {}\".format(region,count))\n"
   ]
  },
  {
   "cell_type": "code",
   "execution_count": null,
   "metadata": {},
   "outputs": [],
   "source": []
  }
 ],
 "metadata": {
  "kernelspec": {
   "display_name": "PY35",
   "language": "python",
   "name": "ml-lib"
  },
  "language_info": {
   "codemirror_mode": {
    "name": "ipython",
    "version": 3
   },
   "file_extension": ".py",
   "mimetype": "text/x-python",
   "name": "python",
   "nbconvert_exporter": "python",
   "pygments_lexer": "ipython3",
   "version": "3.5.4"
  }
 },
 "nbformat": 4,
 "nbformat_minor": 2
}
