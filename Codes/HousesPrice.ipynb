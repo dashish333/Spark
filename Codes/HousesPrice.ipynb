{
 "cells": [
  {
   "cell_type": "markdown",
   "metadata": {},
   "source": [
    "## House Prices : Bedroom and Avg Price"
   ]
  },
  {
   "cell_type": "code",
   "execution_count": 2,
   "metadata": {},
   "outputs": [],
   "source": [
    "from pyspark import SparkContext,StorageLevel\n",
    "\n",
    "sc = SparkContext.getOrCreate()\n",
    "housing = sc.textFile(\"in/RealEstate.csv\")\n",
    "#housing.collect()"
   ]
  },
  {
   "cell_type": "code",
   "execution_count": 3,
   "metadata": {},
   "outputs": [],
   "source": [
    "cleaned_housing = housing.filter(lambda line : \"Bedrooms\" not in line)\n"
   ]
  },
  {
   "cell_type": "markdown",
   "metadata": {},
   "source": [
    "### __init__ in python : \"__init__\" is a reseved method in python classes. It is known as a constructor in object oriented concepts. This method called when an object is created from the class and it allow the class to initialize the attributes of a class.\n",
    "\n",
    "###### Here, the magic keyword \"self\"  represents the instance of the class. It binds the attributes with the given arguments.\n",
    "\n",
    "###### "
   ]
  },
  {
   "cell_type": "code",
   "execution_count": 4,
   "metadata": {},
   "outputs": [],
   "source": [
    "from KeepCount import KeepCount ## here I have done mistake in calling the py file\n"
   ]
  },
  {
   "cell_type": "code",
   "execution_count": 11,
   "metadata": {},
   "outputs": [
    {
     "name": "stdout",
     "output_type": "stream",
     "text": [
      "house price total:\n",
      "0: (2,586900.0)\n",
      "2: (123,32761834.0)\n",
      "4: (177,85575190.0)\n",
      "10: (1,699000.0)\n",
      "6: (4,2412900.0)\n",
      "1: (11,1869800.0)\n",
      "3: (431,154755811.0)\n",
      "5: (31,20393600.0)\n",
      "7: (1,325000.0)\n"
     ]
    }
   ],
   "source": [
    "BR_count_price = cleaned_housing.map(lambda line : \\\n",
    "                                    (int(line.split(\",\")[3]), KeepCount(1,float(line.split(\",\")[2]))) ## creating pair RDD\n",
    "                                    )\n",
    "house_price = BR_count_price.reduceByKey(lambda x, y : KeepCount(x.count+y.count,x.price+y.price))\n",
    "print (\"house price total:\")\n",
    "for br,object_ in house_price.collect():\n",
    "    print(\"{}: ({},{})\".format(br,object_.count,object_.price))\n"
   ]
  },
  {
   "cell_type": "code",
   "execution_count": 12,
   "metadata": {},
   "outputs": [
    {
     "name": "stdout",
     "output_type": "stream",
     "text": [
      "Actual avegare price of house for specific bedroom size:\n",
      "10 ->699000.0\n",
      "7 ->325000.0\n",
      "6 ->603225.0\n",
      "5 ->657858.0645161291\n",
      "4 ->483475.6497175141\n",
      "3 ->359062.20649651974\n",
      "2 ->266356.3739837398\n",
      "1 ->169981.81818181818\n",
      "0 ->293450.0\n"
     ]
    }
   ],
   "source": [
    "avgHousePrice = house_price.mapValues(lambda x:x.price/x.count)\n",
    "#avgHousePrice.sortByKey(ascending=False) for sorting the str has to be converted to integer\n",
    "print(\"Actual avegare price of house for specific bedroom size:\")\n",
    "for br,price_ in avgHousePrice.sortByKey(ascending=False).collect():\n",
    "    print(\"{} ->{}\".format(br,price_))"
   ]
  },
  {
   "cell_type": "code",
   "execution_count": null,
   "metadata": {},
   "outputs": [],
   "source": []
  }
 ],
 "metadata": {
  "kernelspec": {
   "display_name": "PY35",
   "language": "python",
   "name": "ml-lib"
  },
  "language_info": {
   "codemirror_mode": {
    "name": "ipython",
    "version": 3
   },
   "file_extension": ".py",
   "mimetype": "text/x-python",
   "name": "python",
   "nbconvert_exporter": "python",
   "pygments_lexer": "ipython3",
   "version": "3.5.4"
  }
 },
 "nbformat": 4,
 "nbformat_minor": 2
}
