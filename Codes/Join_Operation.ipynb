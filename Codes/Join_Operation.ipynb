{
 "cells": [
  {
   "cell_type": "markdown",
   "metadata": {},
   "source": [
    "### Join Operation on RDD"
   ]
  },
  {
   "cell_type": "markdown",
   "metadata": {},
   "source": [
    "#### Types of Join operation:\n",
    " ###### 1.join \n",
    " ###### 2.left join /right join/outer join"
   ]
  },
  {
   "cell_type": "code",
   "execution_count": 7,
   "metadata": {},
   "outputs": [],
   "source": [
    "from pyspark import SparkContext\n",
    "\n",
    "sc= SparkContext.getOrCreate()\n",
    "age = sc.parallelize([(\"Ashish\",27),(\"Shivanshu\",23)])\n",
    "school = sc.parallelize([(\"Ashish\",\"IITGN\"),(\"Shibbu\",\"Bits-Pilani\")])\n",
    "\n",
    "\n",
    "### normal join\n",
    "\n",
    "join_RDD = age.join(school,numPartitions=1)\n",
    "join_RDD.saveAsTextFile(\"out/age_school_join.text\")"
   ]
  },
  {
   "cell_type": "code",
   "execution_count": 9,
   "metadata": {},
   "outputs": [],
   "source": [
    "### left outer join\n",
    "\n",
    "left_join_RDD = age.leftOuterJoin(school,numPartitions=1)\n",
    "left_join_RDD.saveAsTextFile(\"out/age_school_LOJ.text\")"
   ]
  },
  {
   "cell_type": "code",
   "execution_count": 10,
   "metadata": {},
   "outputs": [],
   "source": [
    "### Right Outer Join\n",
    "r_join_RDD = age.rightOuterJoin(school,numPartitions=1)\n",
    "r_join_RDD.saveAsTextFile(\"out/age_school_ROJ.text\")\n"
   ]
  },
  {
   "cell_type": "code",
   "execution_count": 11,
   "metadata": {},
   "outputs": [],
   "source": [
    "### full outer join\n",
    "full_join = age.fullOuterJoin(school,numPartitions=1)\n",
    "full_join.saveAsTextFile(\"out/full_join.text\")\n"
   ]
  },
  {
   "cell_type": "code",
   "execution_count": 22,
   "metadata": {},
   "outputs": [
    {
     "name": "stdout",
     "output_type": "stream",
     "text": [
      "4 4\n"
     ]
    }
   ],
   "source": [
    "## to get to know the number of partitions : for an RDD\n",
    "print(str(age.getNumPartitions())+\" \"+str(school.getNumPartitions()) )"
   ]
  },
  {
   "cell_type": "code",
   "execution_count": null,
   "metadata": {},
   "outputs": [],
   "source": []
  }
 ],
 "metadata": {
  "kernelspec": {
   "display_name": "PY35",
   "language": "python",
   "name": "ml-lib"
  },
  "language_info": {
   "codemirror_mode": {
    "name": "ipython",
    "version": 3
   },
   "file_extension": ".py",
   "mimetype": "text/x-python",
   "name": "python",
   "nbconvert_exporter": "python",
   "pygments_lexer": "ipython3",
   "version": "3.5.4"
  }
 },
 "nbformat": 4,
 "nbformat_minor": 2
}
