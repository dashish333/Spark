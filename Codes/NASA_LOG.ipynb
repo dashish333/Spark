{
 "cells": [
  {
   "cell_type": "code",
   "execution_count": 1,
   "metadata": {},
   "outputs": [],
   "source": [
    "from pyspark import SparkContext"
   ]
  },
  {
   "cell_type": "code",
   "execution_count": 2,
   "metadata": {},
   "outputs": [],
   "source": [
    "def ignore_this(line : str):\n",
    "    return not (line.startswith(\"host\") and \"bytes\" in line)"
   ]
  },
  {
   "cell_type": "code",
   "execution_count": 5,
   "metadata": {},
   "outputs": [],
   "source": [
    "sc = SparkContext.getOrCreate()\n",
    "julyLog=sc.textFile(\"in/nasa_19950701.tsv\")\n",
    "augLog=sc.textFile(\"in/nasa_19950801.tsv\")\n",
    "\n",
    "union_Logs = julyLog.union(augLog)\n",
    "cleanerLog = union_Logs.filter(ignore_this)\n",
    "\n",
    "sample = cleanerLog.sample(withReplacement = True, fraction =0.1)\n",
    "sample.saveAsTextFile(\"out/Nasa_log.text\")\n"
   ]
  },
  {
   "cell_type": "markdown",
   "metadata": {},
   "source": [
    "### NASA: Common Host names from both days"
   ]
  },
  {
   "cell_type": "code",
   "execution_count": 13,
   "metadata": {},
   "outputs": [],
   "source": [
    "julyHost=julyLog.map(lambda line : line.split(\"\\t\")[0])\n",
    "augHost = augLog.map(lambda line: line.split(\"\\t\")[0])\n",
    "\n",
    "intersection_log = julyHost.intersection(augHost)\n",
    "clearLog = intersection_log.filter(lambda host : host !=\"host\")\n",
    "\n",
    "clearLog.saveAsTextFile(\"out/Nasa_log_same_Host.text\")"
   ]
  },
  {
   "cell_type": "code",
   "execution_count": null,
   "metadata": {},
   "outputs": [],
   "source": []
  }
 ],
 "metadata": {
  "kernelspec": {
   "display_name": "PY35",
   "language": "python",
   "name": "ml-lib"
  },
  "language_info": {
   "codemirror_mode": {
    "name": "ipython",
    "version": 3
   },
   "file_extension": ".py",
   "mimetype": "text/x-python",
   "name": "python",
   "nbconvert_exporter": "python",
   "pygments_lexer": "ipython3",
   "version": "3.5.4"
  }
 },
 "nbformat": 4,
 "nbformat_minor": 2
}
