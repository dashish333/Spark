{
 "cells": [
  {
   "cell_type": "markdown",
   "metadata": {},
   "source": [
    "## SparkSql Program\n",
    "### While working with RDD we use SparkContext whereas when using DataFrame we use SparkSession"
   ]
  },
  {
   "cell_type": "code",
   "execution_count": 1,
   "metadata": {},
   "outputs": [],
   "source": [
    "from pyspark.sql import SparkSession"
   ]
  },
  {
   "cell_type": "code",
   "execution_count": 2,
   "metadata": {},
   "outputs": [],
   "source": [
    "# very first object to create a SparkSql program\n",
    "session = SparkSession.builder.appName(\"SparkSqlfirstProgram\").master(\"local[1]\").getOrCreate()"
   ]
  },
  {
   "cell_type": "code",
   "execution_count": 3,
   "metadata": {},
   "outputs": [],
   "source": [
    "dataFrame = session.read"
   ]
  },
  {
   "cell_type": "code",
   "execution_count": 12,
   "metadata": {},
   "outputs": [],
   "source": [
    "response = dataFrame.option(\"header\",value=True).option(\"inferSchema\",value=True)\\\n",
    ".csv(\"/Users/ashishdwivedi/anaconda3/envs/ml-lib/Spark/Codes/in/2016-stack-overflow-survey-responses.csv\")\n",
    "\n",
    "## value =True or \"true\" both work as second param"
   ]
  },
  {
   "cell_type": "code",
   "execution_count": 13,
   "metadata": {},
   "outputs": [],
   "source": [
    "AM = \"age_midpoint\"\n",
    "SM = \"salary_midpoint\"\n",
    "CSR = \"company_size_range\""
   ]
  },
  {
   "cell_type": "code",
   "execution_count": 11,
   "metadata": {},
   "outputs": [
    {
     "name": "stdout",
     "output_type": "stream",
     "text": [
      "root\n",
      " |-- _c0: integer (nullable = true)\n",
      " |-- collector: string (nullable = true)\n",
      " |-- country: string (nullable = true)\n",
      " |-- un_subregion: string (nullable = true)\n",
      " |-- so_region: string (nullable = true)\n",
      " |-- age_range: string (nullable = true)\n",
      " |-- age_midpoint: double (nullable = true)\n",
      " |-- gender: string (nullable = true)\n",
      " |-- self_identification: string (nullable = true)\n",
      " |-- occupation: string (nullable = true)\n",
      " |-- occupation_group: string (nullable = true)\n",
      " |-- experience_range: string (nullable = true)\n",
      " |-- experience_midpoint: double (nullable = true)\n",
      " |-- salary_range: string (nullable = true)\n",
      " |-- salary_midpoint: double (nullable = true)\n",
      " |-- big_mac_index: double (nullable = true)\n",
      " |-- tech_do: string (nullable = true)\n",
      " |-- tech_want: string (nullable = true)\n",
      " |-- aliens: string (nullable = true)\n",
      " |-- programming_ability: double (nullable = true)\n",
      " |-- employment_status: string (nullable = true)\n",
      " |-- industry: string (nullable = true)\n",
      " |-- company_size_range: string (nullable = true)\n",
      " |-- team_size_range: string (nullable = true)\n",
      " |-- women_on_team: string (nullable = true)\n",
      " |-- remote: string (nullable = true)\n",
      " |-- job_satisfaction: string (nullable = true)\n",
      " |-- job_discovery: string (nullable = true)\n",
      " |-- dev_environment: string (nullable = true)\n",
      " |-- commit_frequency: string (nullable = true)\n",
      " |-- hobby: string (nullable = true)\n",
      " |-- dogs_vs_cats: string (nullable = true)\n",
      " |-- desktop_os: string (nullable = true)\n",
      " |-- unit_testing: string (nullable = true)\n",
      " |-- rep_range: string (nullable = true)\n",
      " |-- visit_frequency: string (nullable = true)\n",
      " |-- why_learn_new_tech: string (nullable = true)\n",
      " |-- education: string (nullable = true)\n",
      " |-- open_to_new_job: string (nullable = true)\n",
      " |-- new_job_value: string (nullable = true)\n",
      " |-- job_search_annoyance: string (nullable = true)\n",
      " |-- interview_likelihood: string (nullable = true)\n",
      " |-- how_to_improve_interview_process: string (nullable = true)\n",
      " |-- star_wars_vs_star_trek: string (nullable = true)\n",
      " |-- agree_tech: string (nullable = true)\n",
      " |-- agree_notice: string (nullable = true)\n",
      " |-- agree_problemsolving: string (nullable = true)\n",
      " |-- agree_diversity: string (nullable = true)\n",
      " |-- agree_adblocker: string (nullable = true)\n",
      " |-- agree_alcohol: string (nullable = true)\n",
      " |-- agree_loveboss: string (nullable = true)\n",
      " |-- agree_nightcode: string (nullable = true)\n",
      " |-- agree_legacy: string (nullable = true)\n",
      " |-- agree_mars: string (nullable = true)\n",
      " |-- important_variety: string (nullable = true)\n",
      " |-- important_control: string (nullable = true)\n",
      " |-- important_sameend: string (nullable = true)\n",
      " |-- important_newtech: string (nullable = true)\n",
      " |-- important_buildnew: string (nullable = true)\n",
      " |-- important_buildexisting: string (nullable = true)\n",
      " |-- important_promotion: string (nullable = true)\n",
      " |-- important_companymission: string (nullable = true)\n",
      " |-- important_wfh: string (nullable = true)\n",
      " |-- important_ownoffice: string (nullable = true)\n",
      " |-- developer_challenges: string (nullable = true)\n",
      " |-- why_stack_overflow: string (nullable = true)\n",
      "\n"
     ]
    }
   ],
   "source": [
    "response.printSchema()"
   ]
  },
  {
   "cell_type": "code",
   "execution_count": 21,
   "metadata": {},
   "outputs": [
    {
     "name": "stdout",
     "output_type": "stream",
     "text": [
      "Top few rows from above dataframe\n",
      "+-----------+--------------------+--------------------+------------+---------------+--------------------+\n",
      "|    country|          occupation|           age_range|age_midpoint|salary_midpoint|  company_size_range|\n",
      "+-----------+--------------------+--------------------+------------+---------------+--------------------+\n",
      "|Afghanistan|                null|               20-24|        22.0|           null|                null|\n",
      "|Afghanistan|Mobile developer ...|               30-34|        32.0|        45000.0|   100-499 employees|\n",
      "|Afghanistan|                null|                null|        null|           null|                null|\n",
      "|Afghanistan|              DevOps|                null|        null|         5000.0|   100-499 employees|\n",
      "|Afghanistan|                null|                > 60|        65.0|           null|                null|\n",
      "|Afghanistan|                null|               20-24|        22.0|           null|                null|\n",
      "|Afghanistan|       Growth hacker|Prefer not to dis...|        null|       210000.0|I am not part of ...|\n",
      "|Afghanistan|Back-end web deve...|               25-29|        27.0|         5000.0|     10-19 employees|\n",
      "|    Albania|                null|               25-29|        27.0|           null|                null|\n",
      "|    Albania|Back-end web deve...|               20-24|        22.0|         5000.0|       5-9 employees|\n",
      "|    Albania|Full-stack web de...|               25-29|        27.0|         5000.0|                null|\n",
      "|    Albania|Full-stack web de...|               20-24|        22.0|        15000.0|   100-499 employees|\n",
      "|    Albania|Full-stack web de...|               25-29|        27.0|         5000.0|     10-19 employees|\n",
      "|    Albania|Back-end web deve...|               25-29|        27.0|         5000.0|     10-19 employees|\n",
      "|    Albania|Back-end web deve...|               20-24|        22.0|        15000.0|     20-99 employees|\n",
      "|    Algeria|                null|               40-49|        44.5|           null|                null|\n",
      "|    Algeria|   Desktop developer|               25-29|        27.0|           null|                null|\n",
      "|    Algeria|             Student|                < 20|        16.0|           null|                null|\n",
      "|    Algeria|                null|               20-24|        22.0|           null|                null|\n",
      "|    Algeria|   Desktop developer|               25-29|        27.0|        15000.0|       1-4 employees|\n",
      "+-----------+--------------------+--------------------+------------+---------------+--------------------+\n",
      "only showing top 20 rows\n",
      "\n"
     ]
    }
   ],
   "source": [
    "responseWithFewCols =response.select(\"country\",\"occupation\",\"age_range\",AM,SM,CSR)\n",
    "print(\"Top few rows from above dataframe\")\n",
    "responseWithFewCols.show()"
   ]
  },
  {
   "cell_type": "code",
   "execution_count": 15,
   "metadata": {},
   "outputs": [
    {
     "name": "stdout",
     "output_type": "stream",
     "text": [
      "Only Albania entries\n",
      "+-------+---------+------------+---------------+------------------+\n",
      "|country|age_range|age_midpoint|salary_midpoint|company_size_range|\n",
      "+-------+---------+------------+---------------+------------------+\n",
      "|Albania|    25-29|        27.0|           null|              null|\n",
      "|Albania|    20-24|        22.0|         5000.0|     5-9 employees|\n",
      "|Albania|    25-29|        27.0|         5000.0|              null|\n",
      "|Albania|    20-24|        22.0|        15000.0| 100-499 employees|\n",
      "|Albania|    25-29|        27.0|         5000.0|   10-19 employees|\n",
      "|Albania|    25-29|        27.0|         5000.0|   10-19 employees|\n",
      "|Albania|    20-24|        22.0|        15000.0|   20-99 employees|\n",
      "+-------+---------+------------+---------------+------------------+\n",
      "\n"
     ]
    }
   ],
   "source": [
    "print(\"Only Albania entries\")\n",
    "responseWithFewCols.filter(responseWithFewCols[\"country\"]==\"Albania\").show()"
   ]
  },
  {
   "cell_type": "code",
   "execution_count": 19,
   "metadata": {},
   "outputs": [
    {
     "name": "stdout",
     "output_type": "stream",
     "text": [
      "Grouping By the country\n",
      "+------------------+-----+\n",
      "|           country|count|\n",
      "+------------------+-----+\n",
      "|           Germany|  168|\n",
      "|       Afghanistan|    8|\n",
      "|          Cambodia|    4|\n",
      "|            France|  351|\n",
      "|           Algeria|   11|\n",
      "|         Argentina|  146|\n",
      "|           Belgium|  150|\n",
      "|           Ecuador|    3|\n",
      "|           Albania|    7|\n",
      "|           Finland|  128|\n",
      "|           Bahamas|    1|\n",
      "|             China|   21|\n",
      "|           Belarus|    2|\n",
      "|             Chile|    9|\n",
      "|           Croatia|   22|\n",
      "|           Andorra|    3|\n",
      "|           Bolivia|    2|\n",
      "|           Denmark|  189|\n",
      "|        Bangladesh|   19|\n",
      "|Bosnia Herzegovina|   13|\n",
      "+------------------+-----+\n",
      "only showing top 20 rows\n",
      "\n",
      "<class 'pyspark.sql.group.GroupedData'>\n"
     ]
    }
   ],
   "source": [
    "print(\"Grouping By the country\")\n",
    "groupData=responseWithFewCols.groupBy(\"country\")\n",
    "groupData.count().show()\n",
    "print(type(groupData))"
   ]
  },
  {
   "cell_type": "code",
   "execution_count": 22,
   "metadata": {},
   "outputs": [
    {
     "name": "stdout",
     "output_type": "stream",
     "text": [
      "age < 35\n",
      "+-----------+--------------------+---------+------------+---------------+------------------+\n",
      "|    country|          occupation|age_range|age_midpoint|salary_midpoint|company_size_range|\n",
      "+-----------+--------------------+---------+------------+---------------+------------------+\n",
      "|Afghanistan|                null|    20-24|        22.0|           null|              null|\n",
      "|Afghanistan|Mobile developer ...|    30-34|        32.0|        45000.0| 100-499 employees|\n",
      "|Afghanistan|                null|    20-24|        22.0|           null|              null|\n",
      "|Afghanistan|Back-end web deve...|    25-29|        27.0|         5000.0|   10-19 employees|\n",
      "|    Albania|                null|    25-29|        27.0|           null|              null|\n",
      "|    Albania|Back-end web deve...|    20-24|        22.0|         5000.0|     5-9 employees|\n",
      "|    Albania|Full-stack web de...|    25-29|        27.0|         5000.0|              null|\n",
      "|    Albania|Full-stack web de...|    20-24|        22.0|        15000.0| 100-499 employees|\n",
      "|    Albania|Full-stack web de...|    25-29|        27.0|         5000.0|   10-19 employees|\n",
      "|    Albania|Back-end web deve...|    25-29|        27.0|         5000.0|   10-19 employees|\n",
      "|    Albania|Back-end web deve...|    20-24|        22.0|        15000.0|   20-99 employees|\n",
      "|    Algeria|   Desktop developer|    25-29|        27.0|           null|              null|\n",
      "|    Algeria|             Student|     < 20|        16.0|           null|              null|\n",
      "|    Algeria|                null|    20-24|        22.0|           null|              null|\n",
      "|    Algeria|   Desktop developer|    25-29|        27.0|        15000.0|     1-4 employees|\n",
      "|    Algeria|   Desktop developer|    20-24|        22.0|        95000.0|              null|\n",
      "|    Algeria|Full-stack web de...|    20-24|        22.0|         5000.0|              null|\n",
      "|    Algeria|Back-end web deve...|     < 20|        16.0|           null|              null|\n",
      "|    Algeria|Full-stack web de...|    20-24|        22.0|         5000.0|   10-19 employees|\n",
      "|    Algeria|             Student|    20-24|        22.0|           null|              null|\n",
      "+-----------+--------------------+---------+------------+---------------+------------------+\n",
      "only showing top 20 rows\n",
      "\n"
     ]
    }
   ],
   "source": [
    "print(\"age < 35\")\n",
    "responseWithFewCols.filter(responseWithFewCols[AM]<35).show()"
   ]
  },
  {
   "cell_type": "code",
   "execution_count": 23,
   "metadata": {},
   "outputs": [
    {
     "name": "stdout",
     "output_type": "stream",
     "text": [
      "+------------------+--------------------+\n",
      "|           country|avg(salary_midpoint)|\n",
      "+------------------+--------------------+\n",
      "|           Germany|  46491.228070175435|\n",
      "|       Afghanistan|             66250.0|\n",
      "|          Cambodia|              5000.0|\n",
      "|            France|  39648.760330578516|\n",
      "|           Algeria|             30000.0|\n",
      "|         Argentina|  27950.819672131147|\n",
      "|           Belgium|   45989.01098901099|\n",
      "|           Ecuador|             40000.0|\n",
      "|           Albania|   8333.333333333334|\n",
      "|           Finland|   45714.28571428572|\n",
      "|           Bahamas|             95000.0|\n",
      "|             China|             54687.5|\n",
      "|           Belarus|             10000.0|\n",
      "|             Chile|  41666.666666666664|\n",
      "|           Croatia|  14166.666666666666|\n",
      "|           Andorra|             40000.0|\n",
      "|           Bolivia|              5000.0|\n",
      "|           Denmark|   68768.65671641791|\n",
      "|        Bangladesh|   7307.692307692308|\n",
      "|Bosnia Herzegovina|             10000.0|\n",
      "+------------------+--------------------+\n",
      "only showing top 20 rows\n",
      "\n"
     ]
    }
   ],
   "source": [
    "## group by country and salary mid point\n",
    "groupedDataByCountry=responseWithFewCols.groupBy(\"country\")\n",
    "groupedDataByCountry.avg(SM).show()"
   ]
  },
  {
   "cell_type": "code",
   "execution_count": 28,
   "metadata": {},
   "outputs": [
    {
     "name": "stdout",
     "output_type": "stream",
     "text": [
      "+---------------+----------------------+\n",
      "|salary_midpoint|Salary_Midpoint_Bucket|\n",
      "+---------------+----------------------+\n",
      "|           null|                  null|\n",
      "|        45000.0|                 40000|\n",
      "|           null|                  null|\n",
      "|         5000.0|                     0|\n",
      "|           null|                  null|\n",
      "|           null|                  null|\n",
      "|       210000.0|                200000|\n",
      "|         5000.0|                     0|\n",
      "|           null|                  null|\n",
      "|         5000.0|                     0|\n",
      "|         5000.0|                     0|\n",
      "|        15000.0|                     0|\n",
      "|         5000.0|                     0|\n",
      "|         5000.0|                     0|\n",
      "|        15000.0|                     0|\n",
      "|           null|                  null|\n",
      "|           null|                  null|\n",
      "|           null|                  null|\n",
      "|           null|                  null|\n",
      "|        15000.0|                     0|\n",
      "+---------------+----------------------+\n",
      "only showing top 20 rows\n",
      "\n"
     ]
    }
   ],
   "source": [
    "### now finding the salary bucket : bucket value 20000\n",
    "SMB=\"Salary_Midpoint_Bucket\"\n",
    "responseWithBucket = response.withColumn(SMB,((response[SM]/20000).cast(\"integer\")*20000))\n",
    "responseWithBucket.select(SM,SMB).show()"
   ]
  },
  {
   "cell_type": "code",
   "execution_count": 29,
   "metadata": {},
   "outputs": [
    {
     "name": "stdout",
     "output_type": "stream",
     "text": [
      "+----------------------+-----+\n",
      "|Salary_Midpoint_Bucket|count|\n",
      "+----------------------+-----+\n",
      "|                  null|  566|\n",
      "|                     0|  523|\n",
      "|                 20000|  351|\n",
      "|                 40000|  260|\n",
      "|                 60000|  134|\n",
      "|                 80000|   63|\n",
      "|                100000|   51|\n",
      "|                120000|   23|\n",
      "|                140000|   11|\n",
      "|                160000|    5|\n",
      "|                180000|    3|\n",
      "|                200000|    9|\n",
      "+----------------------+-----+\n",
      "\n"
     ]
    }
   ],
   "source": [
    "responseWithBucket.groupBy(SMB).count().orderBy(SMB).show()"
   ]
  },
  {
   "cell_type": "code",
   "execution_count": 30,
   "metadata": {},
   "outputs": [],
   "source": [
    "session.stop() # free spark sql "
   ]
  },
  {
   "cell_type": "code",
   "execution_count": null,
   "metadata": {},
   "outputs": [],
   "source": []
  }
 ],
 "metadata": {
  "kernelspec": {
   "display_name": "PY35",
   "language": "python",
   "name": "ml-lib"
  },
  "language_info": {
   "codemirror_mode": {
    "name": "ipython",
    "version": 3
   },
   "file_extension": ".py",
   "mimetype": "text/x-python",
   "name": "python",
   "nbconvert_exporter": "python",
   "pygments_lexer": "ipython3",
   "version": "3.5.4"
  }
 },
 "nbformat": 4,
 "nbformat_minor": 2
}
