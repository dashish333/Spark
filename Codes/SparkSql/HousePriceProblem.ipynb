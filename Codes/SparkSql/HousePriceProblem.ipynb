{
 "cells": [
  {
   "cell_type": "markdown",
   "metadata": {},
   "source": [
    "### HousePrice SparkSql"
   ]
  },
  {
   "cell_type": "code",
   "execution_count": 2,
   "metadata": {},
   "outputs": [],
   "source": [
    "from pyspark.sql import SparkSession\n",
    "session = SparkSession.builder.appName(\"House Prices\").master(\"local[1]\").getOrCreate()"
   ]
  },
  {
   "cell_type": "code",
   "execution_count": 6,
   "metadata": {},
   "outputs": [],
   "source": [
    "houseDF = session.read\n",
    "dataFrame = houseDF.option(\"header\",value=True).option(\"inferSchema\",value=True)\\\n",
    ".csv(\"/Users/ashishdwivedi/anaconda3/envs/ml-lib/Spark/Codes/in/RealEstate.csv\")"
   ]
  },
  {
   "cell_type": "code",
   "execution_count": 16,
   "metadata": {},
   "outputs": [
    {
     "name": "stdout",
     "output_type": "stream",
     "text": [
      "+-------------------+------------------+\n",
      "|           Location|  avg(Price SQ Ft)|\n",
      "+-------------------+------------------+\n",
      "|         New Cuyama|             34.05|\n",
      "|        Bakersfield|             69.69|\n",
      "|          King City| 71.51333333333334|\n",
      "|         Greenfield|             91.58|\n",
      "|    Santa Margarita|             95.38|\n",
      "|            Soledad|102.69333333333333|\n",
      "|        Out Of Area|116.23333333333333|\n",
      "|          Guadalupe|           120.175|\n",
      "|           Coalinga|124.34285714285714|\n",
      "| Santa Maria-Orcutt|147.58871698113194|\n",
      "|             Lompoc|             149.9|\n",
      "|             Lompoc|159.87115384615387|\n",
      "|         San Miguel|163.16071428571425|\n",
      "|            Bradley|            166.81|\n",
      "|            Creston|            181.76|\n",
      "| Santa Maria-Orcutt|183.03692307692307|\n",
      "|             Nipomo|187.92333333333332|\n",
      "|        Paso Robles|191.17752941176474|\n",
      "|         Los Alamos|191.99333333333334|\n",
      "|            Solvang|           193.305|\n",
      "+-------------------+------------------+\n",
      "only showing top 20 rows\n",
      "\n"
     ]
    }
   ],
   "source": [
    "PSF = \"Price SQ Ft\"\n",
    "dataFrame.groupBy(\"Location\").avg(PSF).orderBy(\"avg(Price SQ Ft)\").show()"
   ]
  },
  {
   "cell_type": "code",
   "execution_count": 18,
   "metadata": {},
   "outputs": [
    {
     "name": "stdout",
     "output_type": "stream",
     "text": [
      "+--------+------------------+\n",
      "|Bedrooms|  avg(Price SQ Ft)|\n",
      "+--------+------------------+\n",
      "|       0|            516.85|\n",
      "|       1|288.29090909090917|\n",
      "|       2| 239.8950406504065|\n",
      "|       3| 211.1135498839907|\n",
      "|       4|194.12480225988693|\n",
      "|       5|206.65258064516124|\n",
      "|       6|          180.9675|\n",
      "|       7|            120.91|\n",
      "|      10|            142.51|\n",
      "+--------+------------------+\n",
      "\n"
     ]
    }
   ],
   "source": [
    "dataFrame.groupBy(\"Bedrooms\").avg(PSF).orderBy(\"Bedrooms\").show()"
   ]
  },
  {
   "cell_type": "code",
   "execution_count": 19,
   "metadata": {},
   "outputs": [],
   "source": [
    "session.stop()"
   ]
  },
  {
   "cell_type": "code",
   "execution_count": null,
   "metadata": {},
   "outputs": [],
   "source": []
  }
 ],
 "metadata": {
  "kernelspec": {
   "display_name": "PY35",
   "language": "python",
   "name": "ml-lib"
  },
  "language_info": {
   "codemirror_mode": {
    "name": "ipython",
    "version": 3
   },
   "file_extension": ".py",
   "mimetype": "text/x-python",
   "name": "python",
   "nbconvert_exporter": "python",
   "pygments_lexer": "ipython3",
   "version": "3.5.4"
  }
 },
 "nbformat": 4,
 "nbformat_minor": 2
}
