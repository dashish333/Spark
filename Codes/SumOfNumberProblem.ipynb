{
 "cells": [
  {
   "cell_type": "code",
   "execution_count": 10,
   "metadata": {},
   "outputs": [
    {
     "name": "stdout",
     "output_type": "stream",
     "text": [
      "Sum of primes is 24133\n"
     ]
    }
   ],
   "source": [
    "from pyspark import SparkContext\n",
    "\n",
    "sc =SparkContext.getOrCreate()\n",
    "primes = sc.textFile(\"in/prime_nums.text\")  ## string RDD\n",
    "\n",
    "sum_of_primes = primes.flatMap(lambda line: line.split(\"\\t\"))\n",
    "\n",
    "## using collect to convert the RDD to list\n",
    "only_num = sum_of_primes.map(lambda val: val )  ## this is unique form : if val contain empty string then it return False\n",
    "to_int = only_num.map(lambda number : int(number)) ## converting each number from str to integer\n",
    "print(\"Sum of primes is {}\".format(to_int.reduce(lambda x,y:x+y)))"
   ]
  },
  {
   "cell_type": "code",
   "execution_count": null,
   "metadata": {},
   "outputs": [],
   "source": []
  }
 ],
 "metadata": {
  "kernelspec": {
   "display_name": "PY35",
   "language": "python",
   "name": "ml-lib"
  },
  "language_info": {
   "codemirror_mode": {
    "name": "ipython",
    "version": 3
   },
   "file_extension": ".py",
   "mimetype": "text/x-python",
   "name": "python",
   "nbconvert_exporter": "python",
   "pygments_lexer": "ipython3",
   "version": "3.5.4"
  }
 },
 "nbformat": 4,
 "nbformat_minor": 2
}
