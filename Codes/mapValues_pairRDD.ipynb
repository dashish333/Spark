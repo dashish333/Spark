{
 "cells": [
  {
   "cell_type": "code",
   "execution_count": 1,
   "metadata": {},
   "outputs": [],
   "source": [
    "from pyspark import SparkContext\n",
    "sc = SparkContext.getOrCreate()"
   ]
  },
  {
   "cell_type": "code",
   "execution_count": 9,
   "metadata": {},
   "outputs": [],
   "source": [
    "import re\n",
    "class delim_Util():\n",
    "    Comma_Delim = re.compile(''',(?=(?:[^\"]*\"[^\"]*\")*[^\"]*$)''')\n",
    "    "
   ]
  },
  {
   "cell_type": "code",
   "execution_count": 10,
   "metadata": {},
   "outputs": [],
   "source": [
    "def _split(line : str):\n",
    "    split=delim_Util.Comma_Delim.split(line)\n",
    "    return \"{}, {}\".format(split[1],split[3])\n"
   ]
  },
  {
   "cell_type": "code",
   "execution_count": 16,
   "metadata": {},
   "outputs": [],
   "source": [
    "airports = sc.textFile(\"in/airports.text\")\n",
    "\n",
    "airports_not_USA = airports.map(lambda line : \\\n",
    "                                (delim_Util.Comma_Delim.split(line)[1],\n",
    "                               delim_Util.Comma_Delim.split(line)[3])\n",
    "                               )\n",
    "#airports_detail = airports_not_USA.map(_split)\n",
    "pairRDD_airport = airports_detail.filter(lambda keyValue : keyValue[1]!=\"\\\"United States\\\"\")\n",
    "\n",
    "pairRDD_airport.coalesce(1).saveAsTextFile(\"out/airport_not_in_USA_pairRDD.text\")"
   ]
  },
  {
   "cell_type": "markdown",
   "metadata": {},
   "source": [
    "#### mapValues implementations : we use mapValue to modify the values in key-value pair. Using this over map function becuase map modifies both key and value but sometimes we are not required to modify key as they are unique"
   ]
  },
  {
   "cell_type": "code",
   "execution_count": 20,
   "metadata": {},
   "outputs": [],
   "source": [
    "pairRDD_UC = airports.map(lambda line : \\\n",
    "                                (delim_Util.Comma_Delim.split(line)[1],\n",
    "                               delim_Util.Comma_Delim.split(line)[3])\n",
    "                               )\n",
    "pairRDD_NOT_USA = pairRDD_UC.filter(lambda keyValue : keyValue[1]!=\"\\\"United States\\\"\")\n",
    "pairRDD_airport_UC = pairRDD_NOT_USA.mapValues(lambda Value : Value.upper())\n",
    "pairRDD_airport_UC.coalesce(1).saveAsTextFile(\"out/UC_airport_NOT_USA.text\")"
   ]
  },
  {
   "cell_type": "code",
   "execution_count": null,
   "metadata": {},
   "outputs": [],
   "source": []
  }
 ],
 "metadata": {
  "kernelspec": {
   "display_name": "PY35",
   "language": "python",
   "name": "ml-lib"
  },
  "language_info": {
   "codemirror_mode": {
    "name": "ipython",
    "version": 3
   },
   "file_extension": ".py",
   "mimetype": "text/x-python",
   "name": "python",
   "nbconvert_exporter": "python",
   "pygments_lexer": "ipython3",
   "version": "3.5.4"
  }
 },
 "nbformat": 4,
 "nbformat_minor": 2
}
